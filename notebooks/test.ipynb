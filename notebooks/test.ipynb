{
 "cells": [
  {
   "metadata": {},
   "cell_type": "code",
   "outputs": [],
   "execution_count": null,
   "source": [
    "import numpy as np\n",
    "import pandas as pd\n",
    "\n",
    "np.random.seed(32)"
   ],
   "id": "31669aaa3d5baf7d"
  },
  {
   "metadata": {},
   "cell_type": "code",
   "outputs": [],
   "execution_count": null,
   "source": "labels_file = pd.read_csv('../data/in-hospital-mortality/listfile.csv')",
   "id": "ff220e3c768e37f6"
  },
  {
   "metadata": {},
   "cell_type": "code",
   "outputs": [],
   "execution_count": null,
   "source": [
    "def split(data: pd.DataFrame, ratio: float) -> (pd.DataFrame, pd.DataFrame):\n",
    "    split_index = int(np.floor(len(data) * ratio))\n",
    "    return data[0: split_index], data[split_index:]"
   ],
   "id": "c9b89efc3089af9f"
  },
  {
   "metadata": {},
   "cell_type": "code",
   "outputs": [],
   "execution_count": null,
   "source": [
    "negative_samples = labels_file[labels_file['y_true'] == 0]\n",
    "positive_samples = labels_file[labels_file['y_true'] == 1]"
   ],
   "id": "8608be1e170ef0f2"
  },
  {
   "metadata": {},
   "cell_type": "code",
   "outputs": [],
   "execution_count": null,
   "source": [
    "(test_negative_samples, train_negative_samples) = split(negative_samples, 0.15)\n",
    "(test_positive_samples, train_positive_samples) = split(positive_samples, 0.15)\n",
    "\n",
    "(test_negative_samples, val_negative_samples) = split(test_negative_samples, 0.8)\n",
    "(test_positive_samples, val_positive_samples) = split(test_positive_samples, 0.8)\n",
    "\n",
    "test_samples = pd.concat([test_negative_samples, test_positive_samples])\n",
    "test_samples = test_samples.iloc[np.random.permutation(np.arange(len(test_samples)))]  #shuffle\n",
    "train_samples = pd.concat([train_negative_samples, train_positive_samples])\n",
    "train_samples = train_samples.iloc[np.random.permutation(np.arange(len(train_samples)))]  #shuffle\n",
    "val_samples = pd.concat([val_negative_samples, val_positive_samples])\n",
    "val_samples = val_samples.iloc[np.random.permutation(np.arange(len(val_samples)))]  #shuffle\n",
    "\n"
   ],
   "id": "7db155b9b65aa8a2"
  },
  {
   "metadata": {},
   "cell_type": "code",
   "outputs": [],
   "execution_count": null,
   "source": [
    "print(\"TEST: positive samples: \", len(test_positive_samples))\n",
    "print(\"TEST: negative samples: \", len(test_negative_samples))\n",
    "print(\"TEST: ratio of positive samples: \",\n",
    "      len(test_positive_samples) / (len(test_positive_samples) + len(test_negative_samples)))\n",
    "\n",
    "print(\"TRAIN: positive samples: \", len(train_positive_samples))\n",
    "print(\"TRAIN: negative samples: \", len(train_negative_samples))\n",
    "print(\"TRAIN: ratio of positive samples: \",\n",
    "      len(train_positive_samples) / (len(train_positive_samples) + len(train_negative_samples)))\n",
    "\n",
    "print(\"VAL: positive samples: \", len(val_positive_samples))\n",
    "print(\"VAL: negative samples: \", len(val_negative_samples))\n",
    "print(\"VAL: ratio of positive samples: \",\n",
    "      len(val_positive_samples) / (len(val_positive_samples) + len(val_negative_samples)))"
   ],
   "id": "8515bb5c85c9d0bc"
  },
  {
   "metadata": {},
   "cell_type": "code",
   "outputs": [],
   "execution_count": null,
   "source": [
    "\n",
    "test_samples.to_csv('../data/in-hospital-mortality/test_listfile.csv', index=False)\n",
    "train_samples.to_csv('../data/in-hospital-mortality/train_listfile.csv', index=False)\n",
    "val_samples.to_csv('../data/in-hospital-mortality/val_listfile.csv', index=False)"
   ],
   "id": "d6d3cd0ea5391075"
  },
  {
   "metadata": {},
   "cell_type": "code",
   "outputs": [],
   "execution_count": null,
   "source": "listfile = np.loadtxt(\"../data/in-hospital-mortality/listfile.csv\", delimiter=\",\", skiprows=1, dtype=str)",
   "id": "6141b27cc0cbe050"
  },
  {
   "metadata": {},
   "cell_type": "code",
   "outputs": [],
   "execution_count": null,
   "source": "files = np.array([x for x in listfile[:, 0]])",
   "id": "4634633482cfdbcf"
  },
  {
   "metadata": {},
   "cell_type": "code",
   "outputs": [],
   "execution_count": null,
   "source": [
    "import os\n",
    "\n",
    "data = [\n",
    "    pd.read_csv(\n",
    "        os.path.join(\"../data/in-hospital-mortality\", episode_file),\n",
    "    )\n",
    "    for episode_file in listfile[:, 0]\n",
    "]"
   ],
   "id": "982e394c3f3ff223"
  },
  {
   "metadata": {},
   "cell_type": "code",
   "outputs": [],
   "execution_count": null,
   "source": [
    "combined_dataframe = pd.concat(data)\n",
    "unique_values = combined_dataframe.apply(lambda col: col.unique())"
   ],
   "id": "4c22e4cddcb5686b"
  },
  {
   "metadata": {},
   "cell_type": "code",
   "outputs": [],
   "execution_count": null,
   "source": [
    "continuos_column = ['Hours', 'Diastolic blood pressure', 'Fraction inspired oxygen',\n",
    " 'Glucose', 'Heart Rate', 'Height', 'Mean blood pressure', 'Oxygen saturation',\n",
    " 'Respiratory rate', 'Systolic blood pressure', 'Temperature', 'Weight', 'pH']\n",
    "unique_values[\"Diastolic blood pressure\"]"
   ],
   "id": "c15706ecd74630b6"
  },
  {
   "metadata": {},
   "cell_type": "code",
   "outputs": [],
   "execution_count": null,
   "source": [
    "gcs_eye_mapping = {\n",
    "    'No Response': 1,\n",
    "    'To Pain': 2,\n",
    "    'To Speech': 3,\n",
    "    'Spontaneously': 4\n",
    "}\n",
    "gcs_verbal_mapping = {\n",
    "    'No Response': 1,\n",
    "    'Incomprehensible sounds': 2,\n",
    "    'Inappropriate Words': 3,\n",
    "    'Confused': 4,\n",
    "    'Oriented': 5\n",
    "}\n",
    "gcs_motor_mapping = {\n",
    "    'No Response': 1,\n",
    "    'Abnormal extension': 2,\n",
    "    'Abnormal Flexion': 3,\n",
    "    'Flex-withdraws': 4,\n",
    "    'Localizes Pain': 5,\n",
    "    'Obeys Commands': 6\n",
    "}\n",
    "\n",
    "\n",
    "def sliding_window_iter(series, size):\n",
    "    \"\"\"series is a column of a dataframe\"\"\"\n",
    "    for start_row in range(0, len(series), size):\n",
    "        if (start_row + size) >= len(series) - 1:\n",
    "            left_index = len(series) - 1 - size\n",
    "            assert left_index + size == len(series) - 1\n",
    "            yield series[left_index:left_index + size]\n",
    "            break\n",
    "        else:\n",
    "            yield series[start_row:start_row + size]\n",
    "\n",
    "\n",
    "samples = None\n",
    "labels = None\n",
    "for ep_index, episode in enumerate(data):\n",
    "    episode[\"Glascow coma scale eye opening\"] = episode[\"Glascow coma scale eye opening\"].map(gcs_eye_mapping)\n",
    "    episode[\"Glascow coma scale motor response\"] = episode[\"Glascow coma scale motor response\"].map(gcs_motor_mapping)\n",
    "    episode[\"Glascow coma scale verbal response\"] = episode[\"Glascow coma scale verbal response\"].map(\n",
    "        gcs_verbal_mapping)\n",
    "\n",
    "    episode[\"Glascow coma scale total\"] = episode[\"Glascow coma scale eye opening\"] + episode[\n",
    "        \"Glascow coma scale motor response\"] + episode[\"Glascow coma scale verbal response\"]\n",
    "\n",
    "    windows = [window for window in sliding_window_iter(episode, 48)]\n",
    "    windows = [windows[0]]\n",
    "\n",
    "    for index, window in enumerate(windows):\n",
    "        if len(window) < 48:\n",
    "            empty_measurements = pd.DataFrame(np.nan, index=range(48 - len(window)), columns=window.columns)\n",
    "            empty_measurements[\"Hours\"] = 0\n",
    "            windows[index] = pd.concat([empty_measurements, window])\n",
    "    if samples is None:\n",
    "        samples = np.array([w.values for w in windows])\n",
    "        labels = np.repeat(int(listfile[ep_index][1]), len(windows))\n",
    "    else:\n",
    "        samples = np.concatenate([samples, np.array([w.values for w in windows])])\n",
    "        labels = np.concatenate([labels, np.repeat(int(listfile[ep_index][1]), len(windows))])"
   ],
   "id": "ffa91090eef96b1f"
  },
  {
   "metadata": {},
   "cell_type": "code",
   "outputs": [],
   "execution_count": null,
   "source": [
    "labels = labels.astype(int)\n",
    "labels.sum()"
   ],
   "id": "f199ef6e25395b34"
  },
  {
   "metadata": {},
   "cell_type": "code",
   "outputs": [],
   "execution_count": null,
   "source": "",
   "id": "2af0a88a106b9065"
  },
  {
   "cell_type": "code",
   "execution_count": null,
   "id": "initial_id",
   "metadata": {
    "collapsed": true
   },
   "outputs": [],
   "source": [
    ""
   ]
  }
 ],
 "metadata": {
  "kernelspec": {
   "display_name": "Python 3",
   "language": "python",
   "name": "python3"
  },
  "language_info": {
   "codemirror_mode": {
    "name": "ipython",
    "version": 2
   },
   "file_extension": ".py",
   "mimetype": "text/x-python",
   "name": "python",
   "nbconvert_exporter": "python",
   "pygments_lexer": "ipython2",
   "version": "2.7.6"
  }
 },
 "nbformat": 4,
 "nbformat_minor": 5
}
