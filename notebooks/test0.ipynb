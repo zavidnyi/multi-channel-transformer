{
 "cells": [
  {
   "cell_type": "code",
   "id": "initial_id",
   "metadata": {
    "collapsed": true,
    "ExecuteTime": {
     "end_time": "2024-04-22T09:40:19.509602Z",
     "start_time": "2024-04-22T09:40:19.105449Z"
    }
   },
   "source": [
    "import pandas as pd\n",
    "labels_file = pd.read_csv('../data/length-of-stay/listfile.csv')"
   ],
   "outputs": [],
   "execution_count": 1
  },
  {
   "metadata": {
    "ExecuteTime": {
     "end_time": "2024-04-16T06:30:35.097685Z",
     "start_time": "2024-04-16T06:30:34.914671Z"
    }
   },
   "cell_type": "code",
   "source": "labels_file['stay'].nunique()",
   "id": "94993d937db075a7",
   "outputs": [
    {
     "data": {
      "text/plain": [
       "56599"
      ]
     },
     "execution_count": 2,
     "metadata": {},
     "output_type": "execute_result"
    }
   ],
   "execution_count": 2
  },
  {
   "metadata": {
    "ExecuteTime": {
     "end_time": "2024-04-16T06:31:10.556944Z",
     "start_time": "2024-04-16T06:31:10.554125Z"
    }
   },
   "cell_type": "code",
   "source": "grouped = labels_file.groupby('stay')",
   "id": "22d151411c8259b3",
   "outputs": [],
   "execution_count": 3
  },
  {
   "metadata": {
    "ExecuteTime": {
     "end_time": "2024-04-22T09:40:33.109408Z",
     "start_time": "2024-04-22T09:40:31.966075Z"
    }
   },
   "cell_type": "code",
   "source": [
    "from sklearn.model_selection import train_test_split\n",
    "\n",
    "train, df_temp = train_test_split(labels_file, test_size=0.20, random_state=42)\n",
    "val, test = train_test_split(df_temp, test_size=0.5, random_state=42)\n"
   ],
   "id": "c5881b60b11cc665",
   "outputs": [],
   "execution_count": 2
  },
  {
   "metadata": {
    "ExecuteTime": {
     "end_time": "2024-04-22T09:40:35.542285Z",
     "start_time": "2024-04-22T09:40:35.533551Z"
    }
   },
   "cell_type": "code",
   "source": [
    "print(\"Train: \\n\", train['y_true'].value_counts().sort_index())\n",
    "print(\"Validation: \\n\", val['y_true'].value_counts().sort_index())\n",
    "print(\"Test: \\n\", test['y_true'].value_counts().sort_index())"
   ],
   "id": "b653eeb3d6a18d8a",
   "outputs": [
    {
     "name": "stdout",
     "output_type": "stream",
     "text": [
      "Train: \n",
      " y_true\n",
      "0.0    15188\n",
      "1.0     7530\n",
      "2.0     4008\n",
      "3.0     2343\n",
      "4.0     1445\n",
      "5.0      972\n",
      "6.0      673\n",
      "7.0     2095\n",
      "8.0     1032\n",
      "Name: count, dtype: int64\n",
      "Validation: \n",
      " y_true\n",
      "0.0    1871\n",
      "1.0     943\n",
      "2.0     528\n",
      "3.0     300\n",
      "4.0     166\n",
      "5.0     117\n",
      "6.0     110\n",
      "7.0     245\n",
      "8.0     131\n",
      "Name: count, dtype: int64\n",
      "Test: \n",
      " y_true\n",
      "0.0    1978\n",
      "1.0     932\n",
      "2.0     469\n",
      "3.0     276\n",
      "4.0     143\n",
      "5.0     118\n",
      "6.0      78\n",
      "7.0     292\n",
      "8.0     125\n",
      "Name: count, dtype: int64\n"
     ]
    }
   ],
   "execution_count": 3
  },
  {
   "metadata": {
    "ExecuteTime": {
     "end_time": "2024-04-22T09:40:41.886207Z",
     "start_time": "2024-04-22T09:40:41.879878Z"
    }
   },
   "cell_type": "code",
   "source": [
    "print(\"Train: \\n\", train['y_true'].value_counts(normalize=True).sort_index())\n",
    "print(\"Validation: \\n\", val['y_true'].value_counts(normalize=True).sort_index())\n",
    "print(\"Test: \\n\", test['y_true'].value_counts(normalize=True).sort_index())"
   ],
   "id": "977d9290c3426161",
   "outputs": [
    {
     "name": "stdout",
     "output_type": "stream",
     "text": [
      "Train: \n",
      " y_true\n",
      "0.0    0.430426\n",
      "1.0    0.213399\n",
      "2.0    0.113586\n",
      "3.0    0.066400\n",
      "4.0    0.040951\n",
      "5.0    0.027546\n",
      "6.0    0.019073\n",
      "7.0    0.059372\n",
      "8.0    0.029247\n",
      "Name: proportion, dtype: float64\n",
      "Validation: \n",
      " y_true\n",
      "0.0    0.424167\n",
      "1.0    0.213784\n",
      "2.0    0.119701\n",
      "3.0    0.068012\n",
      "4.0    0.037633\n",
      "5.0    0.026525\n",
      "6.0    0.024938\n",
      "7.0    0.055543\n",
      "8.0    0.029698\n",
      "Name: proportion, dtype: float64\n",
      "Test: \n",
      " y_true\n",
      "0.0    0.448424\n",
      "1.0    0.211290\n",
      "2.0    0.106325\n",
      "3.0    0.062571\n",
      "4.0    0.032419\n",
      "5.0    0.026751\n",
      "6.0    0.017683\n",
      "7.0    0.066198\n",
      "8.0    0.028338\n",
      "Name: proportion, dtype: float64\n"
     ]
    }
   ],
   "execution_count": 4
  },
  {
   "metadata": {
    "ExecuteTime": {
     "end_time": "2024-04-22T10:55:10.075428Z",
     "start_time": "2024-04-22T10:55:10.020157Z"
    }
   },
   "cell_type": "code",
   "source": [
    "train.to_csv('../data/length-of-stay/train_listfile.csv', index=False)\n",
    "val.to_csv('../data/length-of-stay/val_listfile.csv', index=False)\n",
    "test.to_csv('../data/length-of-stay/test_listfile.csv', index=False)"
   ],
   "id": "5a149bcdc483c455",
   "outputs": [],
   "execution_count": 5
  },
  {
   "metadata": {},
   "cell_type": "code",
   "outputs": [],
   "execution_count": null,
   "source": "",
   "id": "a4445f09cb615db8"
  }
 ],
 "metadata": {
  "kernelspec": {
   "display_name": "Python 3",
   "language": "python",
   "name": "python3"
  },
  "language_info": {
   "codemirror_mode": {
    "name": "ipython",
    "version": 2
   },
   "file_extension": ".py",
   "mimetype": "text/x-python",
   "name": "python",
   "nbconvert_exporter": "python",
   "pygments_lexer": "ipython2",
   "version": "2.7.6"
  }
 },
 "nbformat": 4,
 "nbformat_minor": 5
}
