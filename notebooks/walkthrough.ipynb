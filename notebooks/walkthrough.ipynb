{
 "cells": [
  {
   "cell_type": "code",
   "execution_count": 1,
   "id": "initial_id",
   "metadata": {
    "collapsed": true,
    "ExecuteTime": {
     "end_time": "2023-12-29T14:07:37.712228Z",
     "start_time": "2023-12-29T14:07:32.800544Z"
    }
   },
   "outputs": [
    {
     "name": "stdout",
     "output_type": "stream",
     "text": [
      "Collecting pandas\r\n",
      "  Obtaining dependency information for pandas from https://files.pythonhosted.org/packages/3e/89/cbca600319463a91ae6a46e537d548900ddf2114df66c902344c4fe6bb4c/pandas-2.1.4-cp311-cp311-macosx_11_0_arm64.whl.metadata\r\n",
      "  Using cached pandas-2.1.4-cp311-cp311-macosx_11_0_arm64.whl.metadata (18 kB)\r\n",
      "Collecting numpy<2,>=1.23.2 (from pandas)\r\n",
      "  Obtaining dependency information for numpy<2,>=1.23.2 from https://files.pythonhosted.org/packages/2e/54/218ce51bb571a70975f223671b2a86aa951e83abfd2a416a3d540f35115c/numpy-1.26.2-cp311-cp311-macosx_11_0_arm64.whl.metadata\r\n",
      "  Using cached numpy-1.26.2-cp311-cp311-macosx_11_0_arm64.whl.metadata (115 kB)\r\n",
      "Requirement already satisfied: python-dateutil>=2.8.2 in /Users/ilia.zavidnyi/Developer/multi-channel-transformer/venv/lib/python3.11/site-packages (from pandas) (2.8.2)\r\n",
      "Collecting pytz>=2020.1 (from pandas)\r\n",
      "  Obtaining dependency information for pytz>=2020.1 from https://files.pythonhosted.org/packages/32/4d/aaf7eff5deb402fd9a24a1449a8119f00d74ae9c2efa79f8ef9994261fc2/pytz-2023.3.post1-py2.py3-none-any.whl.metadata\r\n",
      "  Using cached pytz-2023.3.post1-py2.py3-none-any.whl.metadata (22 kB)\r\n",
      "Collecting tzdata>=2022.1 (from pandas)\r\n",
      "  Using cached tzdata-2023.3-py2.py3-none-any.whl (341 kB)\r\n",
      "Requirement already satisfied: six>=1.5 in /Users/ilia.zavidnyi/Developer/multi-channel-transformer/venv/lib/python3.11/site-packages (from python-dateutil>=2.8.2->pandas) (1.16.0)\r\n",
      "Using cached pandas-2.1.4-cp311-cp311-macosx_11_0_arm64.whl (10.8 MB)\r\n",
      "Using cached numpy-1.26.2-cp311-cp311-macosx_11_0_arm64.whl (14.0 MB)\r\n",
      "Using cached pytz-2023.3.post1-py2.py3-none-any.whl (502 kB)\r\n",
      "Installing collected packages: pytz, tzdata, numpy, pandas\r\n",
      "Successfully installed numpy-1.26.2 pandas-2.1.4 pytz-2023.3.post1 tzdata-2023.3\r\n",
      "\r\n",
      "\u001B[1m[\u001B[0m\u001B[34;49mnotice\u001B[0m\u001B[1;39;49m]\u001B[0m\u001B[39;49m A new release of pip is available: \u001B[0m\u001B[31;49m23.2.1\u001B[0m\u001B[39;49m -> \u001B[0m\u001B[32;49m23.3.2\u001B[0m\r\n",
      "\u001B[1m[\u001B[0m\u001B[34;49mnotice\u001B[0m\u001B[1;39;49m]\u001B[0m\u001B[39;49m To update, run: \u001B[0m\u001B[32;49mpip install --upgrade pip\u001B[0m\r\n",
      "Note: you may need to restart the kernel to use updated packages.\n"
     ]
    }
   ],
   "source": [
    "%pip install pandas"
   ]
  },
  {
   "cell_type": "code",
   "outputs": [],
   "source": [
    "import pandas as pd"
   ],
   "metadata": {
    "collapsed": false,
    "ExecuteTime": {
     "end_time": "2023-12-29T14:10:07.038313Z",
     "start_time": "2023-12-29T14:10:07.035952Z"
    }
   },
   "id": "b5f7f8d1d4869614",
   "execution_count": 4
  },
  {
   "cell_type": "markdown",
   "source": [
    "Load raw data from csv files"
   ],
   "metadata": {
    "collapsed": false
   },
   "id": "f3168d16d86ee1a5"
  },
  {
   "cell_type": "code",
   "outputs": [],
   "source": [
    "raw_data_vitalsign = pd.read_csv(\"../data/physionet.org/files/mimic-iv-ed/2.2/ed/vitalsign.csv\")\n",
    "raw_data_medrecon = pd.read_csv(\"../data/physionet.org/files/mimic-iv-ed/2.2/ed/medrecon.csv\")\n",
    "raw_data_pyxis = pd.read_csv(\"../data/physionet.org/files/mimic-iv-ed/2.2/ed/pyxis.csv\")"
   ],
   "metadata": {
    "collapsed": false,
    "ExecuteTime": {
     "end_time": "2023-12-29T16:03:14.429285Z",
     "start_time": "2023-12-29T16:03:10.317053Z"
    }
   },
   "id": "9386f7071a5b8e2f",
   "execution_count": 25
  },
  {
   "cell_type": "markdown",
   "source": [
    "First get vital sequences of length more then 10, then based on those stays we get data for medrecon and pyxis"
   ],
   "metadata": {
    "collapsed": false
   },
   "id": "6df82f088ec8f305"
  },
  {
   "cell_type": "code",
   "outputs": [],
   "source": [
    "vitals = raw_data_vitalsign.groupby([\"subject_id\", \"stay_id\"]).filter(lambda group: len(group) > 10)\n",
    "interesting_sequences = vitals.iloc[:, :2] #\"subject_id\", \"stay_id\" columns\n",
    "medrecon = pd.merge(interesting_sequences, raw_data_medrecon, on=[\"subject_id\", \"stay_id\"], how=\"left\")\n",
    "pyxis = pd.merge(interesting_sequences, raw_data_pyxis, on=[\"subject_id\", \"stay_id\"], how=\"left\")\n",
    "del raw_data_vitalsign, raw_data_medrecon, raw_data_pyxis, interesting_sequences"
   ],
   "metadata": {
    "collapsed": false,
    "ExecuteTime": {
     "end_time": "2023-12-29T16:30:01.636183Z",
     "start_time": "2023-12-29T16:29:57.596612Z"
    }
   },
   "id": "7d761b651362e91",
   "execution_count": 51
  },
  {
   "cell_type": "markdown",
   "source": [
    "Join all sequences into one large table"
   ],
   "metadata": {
    "collapsed": false
   },
   "id": "ad05ebc2dcccb787"
  },
  {
   "cell_type": "code",
   "outputs": [],
   "source": [
    "master_data = pd.merge(vitals, medrecon, on=[\"subject_id\", \"stay_id\", \"charttime\"], how=\"outer\")\n",
    "master_data = pd.merge(master_data, pyxis, on=[\"subject_id\", \"stay_id\", \"charttime\", \"name\", \"gsn\"], how=\"outer\")\n",
    "del vitals, medrecon, pyxis"
   ],
   "metadata": {
    "collapsed": false,
    "ExecuteTime": {
     "end_time": "2023-12-29T16:36:40.031602Z",
     "start_time": "2023-12-29T16:36:36.324952Z"
    }
   },
   "id": "f0405c8d147480ba",
   "execution_count": 56
  },
  {
   "cell_type": "code",
   "outputs": [],
   "source": [
    "master_data.to_csv(\"../data/master_data.csv\")"
   ],
   "metadata": {
    "collapsed": false,
    "ExecuteTime": {
     "end_time": "2023-12-29T16:45:29.480894Z",
     "start_time": "2023-12-29T16:45:06.352367Z"
    }
   },
   "id": "c28a5b52806cc7e9",
   "execution_count": 61
  },
  {
   "cell_type": "code",
   "outputs": [],
   "source": [],
   "metadata": {
    "collapsed": false
   },
   "id": "c8ac0fe35f91d87f"
  }
 ],
 "metadata": {
  "kernelspec": {
   "display_name": "Python 3",
   "language": "python",
   "name": "python3"
  },
  "language_info": {
   "codemirror_mode": {
    "name": "ipython",
    "version": 2
   },
   "file_extension": ".py",
   "mimetype": "text/x-python",
   "name": "python",
   "nbconvert_exporter": "python",
   "pygments_lexer": "ipython2",
   "version": "2.7.6"
  }
 },
 "nbformat": 4,
 "nbformat_minor": 5
}
